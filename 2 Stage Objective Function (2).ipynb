{
 "cells": [
  {
   "cell_type": "code",
   "execution_count": null,
   "id": "4d5fc3bf",
   "metadata": {},
   "outputs": [],
   "source": [
    " # OBJECTIVES -----------------------------------------------------------------------------------------------------------\n",
    "    def MinPenalty(m): \n",
    "        penalty_sum = sum([m.ground_penalty[n,c,gc] for n in range(1,N+1) for c in contacts for gc in ground_constraints])\n",
    "        return penalty_sum \n",
    "    m.MinPenalty = Objective(rule = MinPenalty)\n",
    "    \n",
    "    \n",
    "    def MinTorque(m):\n",
    "        torque_sum = 0 \n",
    "        for n in range(1,N+1):\n",
    "            for j in joints:\n",
    "                torque_sum += m.force_a[n, j,'R']**2\n",
    "        return torque_sum\n",
    "    m.MinTorque = Objective(rule = MinTorque)\n",
    "    \n",
    "    m.MinTorque.deactivate()"
   ]
  },
  {
   "cell_type": "code",
   "execution_count": null,
   "id": "022f5d51",
   "metadata": {},
   "outputs": [],
   "source": [
    "def init_opt(): # initializes solver\n",
    "    opt = SolverFactory('ipopt',executable = '/opt/homebrew/bin/ipopt')\n",
    "    opt.options[\"linear_solver\"] = 'mumps' #'ma97'\n",
    "    opt.options[\"print_level\"] = 3 # prints a log with each iteration (you want to this - it's the only way to see progress.)\n",
    "    opt.options[\"max_iter\"] = 30000 # maximum number of iterations\n",
    "    opt.options[\"max_cpu_time\"] = 3600 # maximum cpu time in seconds\n",
    "    opt.options[\"Tol\"] = 1e-6 # the tolerance for feasibility. Considers constraints satisfied when they're within this margin.\n",
    "    \n",
    "    opt.options[\"OF_acceptable_obj_change_tol\"] = 1e-4\n",
    "    opt.options[\"OF_ma86_scaling\"] = 'none'\n",
    "    \n",
    "    return opt"
   ]
  },
  {
   "cell_type": "code",
   "execution_count": null,
   "id": "537db721",
   "metadata": {},
   "outputs": [],
   "source": [
    "def high_drop(m):\n",
    "    for dof in DOFs:\n",
    "        m.dq[1,dof].fix(0)  #set rate of change of all DOFs to 0 at N=1\n",
    "        m.q[1,dof].fix(0)   #set value of all DOFs to 0 at N=1\n",
    "    m.q[1,'y','b'].fix(5)   #set y value of body link to 5 at N=1\n",
    "    m.q[1,'tht','R'].fix(3*np.pi/2)\n",
    "    \n",
    "    for n in range(1,N+1):\n",
    "        for j in joints:\n",
    "            for s in sides:\n",
    "                m.force_a[n,j,s].fix(0) #set actuator forces of all joints to 0 for all N\n",
    "                \n",
    "    for n in range(1,N+1):\n",
    "        for c in contacts:\n",
    "            m.GRF[n,c,'y'].fix(0) #set y component of ground reaction force of contact points to 0 for all N\n",
    "    return m"
   ]
  },
  {
   "cell_type": "code",
   "execution_count": null,
   "id": "98a7f61e",
   "metadata": {},
   "outputs": [],
   "source": [
    "def check_model(m,result):\n",
    "    if result.solver.status != SolverStatus.ok:\n",
    "        print('fail: solver not ok')\n",
    "        return 0\n",
    "    if result.solver.termination_condition != TerminationCondition.optimal:\n",
    "        print('fail: did not find optimal solution')\n",
    "        return 0\n",
    "    max_ground_penalty = np.max([m.ground_penalty[n,c,gc].value for n in range(1,N+1) for c in contacts for gc in ground_constraints])\n",
    "    thr = 1e-3\n",
    "    if max_ground_penalty > thr:\n",
    "        print('fail: ground penalty violated')\n",
    "        return 0\n",
    "    print('check_model: success')\n",
    "    return 1"
   ]
  },
  {
   "cell_type": "code",
   "execution_count": null,
   "id": "25fbd0be",
   "metadata": {},
   "outputs": [],
   "source": [
    "#Deactivate first objective, activate second objective\n",
    "def activate_objective(m):\n",
    "    m.MinPenalty.deactivate()\n",
    "    m.MinTorque.activate()\n",
    "    for n in range(1,N+1):\n",
    "        for c in contacts:\n",
    "            for gc in ground_constraints:\n",
    "                m.ground_penalty[n,c,gc].setub(1e-4)\n",
    "    return m"
   ]
  },
  {
   "cell_type": "code",
   "execution_count": null,
   "id": "cca33a90",
   "metadata": {},
   "outputs": [],
   "source": [
    "from time import time\n",
    "def solve_model(m,filename):\n",
    "    opt = init_opt()\n",
    "    success = 0\n",
    "    try:\n",
    "        result = opt.solve(m,tee= True)\n",
    "        success = check_model(m,result)\n",
    "    except Exception as e:\n",
    "        print('fail',e)\n",
    "        return [success,m,0]\n",
    "    \n",
    "    if success > 0:\n",
    "        #data = save_model(m,t2-t1,filename)\n",
    "        print('solve_model: success')\n",
    "        return [success,m,result]\n",
    "    else:\n",
    "        return [success,m,0]"
   ]
  },
  {
   "cell_type": "code",
   "execution_count": null,
   "id": "b2fdec9f",
   "metadata": {},
   "outputs": [],
   "source": [
    "N = 100   #150 for 12.5m\n",
    "hm = 0.02\n",
    "mu = 0.95\n",
    "sd = 1\n",
    "#m = create_model(N,hm,mu)\n",
    "#--------------------------------------- 2 stage optimisation ----------------------------------------------\n",
    "\n",
    "m = create_model(N,hm,mu)\n",
    "\n",
    "m = high_drop(m)\n",
    "\n",
    "\n",
    "\n",
    "filename = r'biped_results/stop_highf_firstorder_i%ds%d_feasible'%(instance,sd)\n",
    "    \n",
    "# First Stage\n",
    "print('Initialising Primary Objective function...')\n",
    "success,m,result = solve_model(m,filename)\n",
    "\n",
    "# Second Stage\n",
    "if success > 0:\n",
    "    m = activate_objective(m)\n",
    "    filename = r'biped_results/stop_highf_firstorder_i%ds%d_optimal'%(instance,sd)\n",
    "    print('Initialising second stage...')\n",
    "    print('Initialising Secondary Objective function...')\n",
    "    success,m,result = solve_model(m,filename)\n"
   ]
  }
 ],
 "metadata": {
  "kernelspec": {
   "display_name": "Python 3 (ipykernel)",
   "language": "python",
   "name": "python3"
  },
  "language_info": {
   "codemirror_mode": {
    "name": "ipython",
    "version": 3
   },
   "file_extension": ".py",
   "mimetype": "text/x-python",
   "name": "python",
   "nbconvert_exporter": "python",
   "pygments_lexer": "ipython3",
   "version": "3.9.13"
  }
 },
 "nbformat": 4,
 "nbformat_minor": 5
}
